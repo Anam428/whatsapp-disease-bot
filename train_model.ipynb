{
 "cells": [
  {
   "cell_type": "code",
   "execution_count": 1,
   "id": "afdfcfe5",
   "metadata": {},
   "outputs": [
    {
     "name": "stdout",
     "output_type": "stream",
     "text": [
      "✅ Model trained and saved successfully.\n"
     ]
    }
   ],
   "source": [
    "import pandas as pd\n",
    "import joblib\n",
    "from sklearn.preprocessing import MultiLabelBinarizer\n",
    "from sklearn.ensemble import RandomForestClassifier\n",
    "\n",
    "# Load dataset\n",
    "df = pd.read_csv(\"dataset.csv\")\n",
    "\n",
    "# Step 1: Identify all symptom columns\n",
    "symptom_cols = [col for col in df.columns if \"Symptom_\" in col]\n",
    "\n",
    "# Step 2: Replace NaN with empty string and merge symptom columns into a list\n",
    "df[symptom_cols] = df[symptom_cols].fillna(\"\")\n",
    "df[\"symptoms\"] = df[symptom_cols].values.tolist()\n",
    "\n",
    "# Step 3: Remove empty strings from each list\n",
    "df[\"symptoms\"] = df[\"symptoms\"].apply(lambda x: [s for s in x if s.strip() != \"\"])\n",
    "\n",
    "# Step 4: Encode symptoms using MultiLabelBinarizer\n",
    "mlb = MultiLabelBinarizer()\n",
    "X = mlb.fit_transform(df[\"symptoms\"])\n",
    "\n",
    "# Step 5: Set target variable\n",
    "y = df[\"Disease\"]\n",
    "\n",
    "# Step 6: Train model\n",
    "model = RandomForestClassifier()\n",
    "model.fit(X, y)\n",
    "# Step 7: Save model and symptom list\n",
    "joblib.dump(model, \"model/disease_model.pkl\")\n",
    "joblib.dump(mlb.classes_.tolist(), \"model/symptom_list.pkl\")\n",
    "\n",
    "print(\"✅ Model trained and saved successfully.\")\n"
   ]
  }
 ],
 "metadata": {
  "kernelspec": {
   "display_name": ".venv",
   "language": "python",
   "name": "python3"
  },
  "language_info": {
   "codemirror_mode": {
    "name": "ipython",
    "version": 3
   },
   "file_extension": ".py",
   "mimetype": "text/x-python",
   "name": "python",
   "nbconvert_exporter": "python",
   "pygments_lexer": "ipython3",
   "version": "3.11.0"
  }
 },
 "nbformat": 4,
 "nbformat_minor": 5
}
